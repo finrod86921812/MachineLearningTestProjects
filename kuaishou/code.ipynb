{
 "cells": [
  {
   "attachments": {},
   "cell_type": "markdown",
   "metadata": {},
   "source": [
    "## 赛题描述\n",
    "本次大赛基于脱敏和采样后的数据信息，预测未来一段时间活跃的用户。\n",
    "\n",
    "## 数据说明\n",
    "大赛提供脱敏和采样后用户行为数据，日期信息进行统一编号，第一天编号为 01， 第二天为 02， 以此类推，所有文件中列使用 tab 分割。\n",
    "一个二分类问题，即判断一个用户是否为活跃用户。\n",
    "\n",
    "## 数据文件下载地址\n",
    "\n",
    "链接：https://pan.baidu.com/s/1MhAU0zyMHA5-bUbPUjWRzQ \n",
    "提取码：dz9p\n",
    "\n",
    "## 文件说明\n",
    "###    app_launch_log.txt：用户登录数据集\n",
    "    列名            类型          说明                     示例\n",
    "    user_id         Int           用户唯一标识（脱敏后）   666\n",
    "    day             String        日期                     01, 02 …30\n",
    "    \n",
    "###    user_activity_log.txt：用户行为数据集（对视频点赞，转发等）\n",
    "    列名            类型          说明                     示例\n",
    "    user_id         Int           用户唯一标识（脱敏后）   666\n",
    "    day             String        日期                     01, 02 …30\n",
    "    page            Int           行为发生的页面。         1\n",
    "                                  每个数字分别对应\n",
    "                                  “关注页”、“个人主页”\n",
    "                                  “发现页”、“同城页”\n",
    "                                  或“其他页”中的一个   \n",
    "    video_id        Int           video id（脱敏后）       333\n",
    "    author_id       Int           作者 id（脱敏后）        999\n",
    "    action_type     Int           用户行为类型。           1\n",
    "                                  每个数字分别对应\n",
    "                                 “播放”、“关注”\n",
    "                                 “点赞”、“转发”、\n",
    "                                 “举报”和“减少此类作品”中的一个\t\n",
    "\n",
    "###    user_register_log.txt：用户注册数据集\n",
    "    列名            类型          说明                     示例\n",
    "    user_id         Int           用户唯一标识（脱敏后）   666\n",
    "    register_day    String        日期                     01, 02 … 30\n",
    "    register_type   Int           来源渠道（脱敏后）       0\n",
    "    device type     Int           设备类型（脱敏后）       0\n",
    "    \n",
    "###    video_create_log.txt：视频创建数据集\n",
    "    列名            类型           说明                    示例\n",
    "    user_id         Int            用户唯一标识（脱敏后）  666\n",
    "    day             String         拍摄日期                01, 02 … 30"
   ]
  },
  {
   "cell_type": "code",
   "execution_count": 1,
   "metadata": {},
   "outputs": [],
   "source": [
    "import pandas as pd\n",
    "import numpy as np"
   ]
  },
  {
   "cell_type": "code",
   "execution_count": 2,
   "metadata": {},
   "outputs": [],
   "source": [
    "# 数据集中使用制表符来进行分割\n",
    "#注册数据\n",
    "register = pd.read_csv('user_register_log.txt',sep='\\t',names=['user_id','register_day','register_type','device_type'])\n",
    "#登录数据\n",
    "launch = pd.read_csv('app_launch_log.txt',sep='\\t',names=['user_id','launch_day'])\n",
    "#创建视频数据\n",
    "create = pd.read_csv('video_create_log.txt',sep='\\t',names=['user_id','create_day'])\n",
    "#行为数据\n",
    "activity = pd.read_csv('user_activity_log.txt',sep='\\t',names=['user_id','act_day','page','video_id','author_id','act_type'])"
   ]
  },
  {
   "cell_type": "code",
   "execution_count": 6,
   "metadata": {},
   "outputs": [
    {
     "name": "stdout",
     "output_type": "stream",
     "text": [
      "(51709, 4)\n",
      "(251943, 2)\n",
      "(35151, 2)\n",
      "(20607228, 6)\n"
     ]
    }
   ],
   "source": [
    "print(register.shape)\n",
    "print(launch.shape)\n",
    "print(create.shape)\n",
    "print(activity.shape)"
   ]
  },
  {
   "cell_type": "markdown",
   "metadata": {},
   "source": [
    "### 用户注册数据\n",
    "    列名            类型          说明                     示例\n",
    "    user_id         Int           用户唯一标识（脱敏后）   666\n",
    "    register_day    String        日期                     01, 02 … 30\n",
    "    register_type   Int           来源渠道（脱敏后）       0\n",
    "    device type     Int           设备类型（脱敏后）       0"
   ]
  },
  {
   "cell_type": "code",
   "execution_count": 7,
   "metadata": {},
   "outputs": [
    {
     "data": {
      "text/html": [
       "<div>\n",
       "<style scoped>\n",
       "    .dataframe tbody tr th:only-of-type {\n",
       "        vertical-align: middle;\n",
       "    }\n",
       "\n",
       "    .dataframe tbody tr th {\n",
       "        vertical-align: top;\n",
       "    }\n",
       "\n",
       "    .dataframe thead th {\n",
       "        text-align: right;\n",
       "    }\n",
       "</style>\n",
       "<table border=\"1\" class=\"dataframe\">\n",
       "  <thead>\n",
       "    <tr style=\"text-align: right;\">\n",
       "      <th></th>\n",
       "      <th>user_id</th>\n",
       "      <th>register_day</th>\n",
       "      <th>register_type</th>\n",
       "      <th>device_type</th>\n",
       "    </tr>\n",
       "  </thead>\n",
       "  <tbody>\n",
       "    <tr>\n",
       "      <th>0</th>\n",
       "      <td>744025</td>\n",
       "      <td>1</td>\n",
       "      <td>1</td>\n",
       "      <td>283</td>\n",
       "    </tr>\n",
       "    <tr>\n",
       "      <th>1</th>\n",
       "      <td>1270299</td>\n",
       "      <td>1</td>\n",
       "      <td>1</td>\n",
       "      <td>259</td>\n",
       "    </tr>\n",
       "    <tr>\n",
       "      <th>2</th>\n",
       "      <td>571220</td>\n",
       "      <td>1</td>\n",
       "      <td>1</td>\n",
       "      <td>2</td>\n",
       "    </tr>\n",
       "    <tr>\n",
       "      <th>3</th>\n",
       "      <td>1308501</td>\n",
       "      <td>1</td>\n",
       "      <td>0</td>\n",
       "      <td>23</td>\n",
       "    </tr>\n",
       "    <tr>\n",
       "      <th>4</th>\n",
       "      <td>745554</td>\n",
       "      <td>1</td>\n",
       "      <td>2</td>\n",
       "      <td>0</td>\n",
       "    </tr>\n",
       "  </tbody>\n",
       "</table>\n",
       "</div>"
      ],
      "text/plain": [
       "   user_id  register_day  register_type  device_type\n",
       "0   744025             1              1          283\n",
       "1  1270299             1              1          259\n",
       "2   571220             1              1            2\n",
       "3  1308501             1              0           23\n",
       "4   745554             1              2            0"
      ]
     },
     "execution_count": 7,
     "metadata": {},
     "output_type": "execute_result"
    }
   ],
   "source": [
    "register.head()"
   ]
  },
  {
   "cell_type": "markdown",
   "metadata": {},
   "source": [
    "### 用户登录数据\n",
    "\n",
    "    列名            类型          说明                     示例\n",
    "    user_id         Int           用户唯一标识（脱敏后）   666\n",
    "    day             String        日期                     01, 02 …30"
   ]
  },
  {
   "cell_type": "code",
   "execution_count": 11,
   "metadata": {},
   "outputs": [
    {
     "data": {
      "text/html": [
       "<div>\n",
       "<style scoped>\n",
       "    .dataframe tbody tr th:only-of-type {\n",
       "        vertical-align: middle;\n",
       "    }\n",
       "\n",
       "    .dataframe tbody tr th {\n",
       "        vertical-align: top;\n",
       "    }\n",
       "\n",
       "    .dataframe thead th {\n",
       "        text-align: right;\n",
       "    }\n",
       "</style>\n",
       "<table border=\"1\" class=\"dataframe\">\n",
       "  <thead>\n",
       "    <tr style=\"text-align: right;\">\n",
       "      <th></th>\n",
       "      <th>user_id</th>\n",
       "      <th>launch_day</th>\n",
       "    </tr>\n",
       "  </thead>\n",
       "  <tbody>\n",
       "    <tr>\n",
       "      <th>0</th>\n",
       "      <td>383135</td>\n",
       "      <td>1</td>\n",
       "    </tr>\n",
       "    <tr>\n",
       "      <th>1</th>\n",
       "      <td>330986</td>\n",
       "      <td>4</td>\n",
       "    </tr>\n",
       "    <tr>\n",
       "      <th>2</th>\n",
       "      <td>330986</td>\n",
       "      <td>9</td>\n",
       "    </tr>\n",
       "    <tr>\n",
       "      <th>3</th>\n",
       "      <td>330986</td>\n",
       "      <td>11</td>\n",
       "    </tr>\n",
       "    <tr>\n",
       "      <th>4</th>\n",
       "      <td>330986</td>\n",
       "      <td>12</td>\n",
       "    </tr>\n",
       "  </tbody>\n",
       "</table>\n",
       "</div>"
      ],
      "text/plain": [
       "   user_id  launch_day\n",
       "0   383135           1\n",
       "1   330986           4\n",
       "2   330986           9\n",
       "3   330986          11\n",
       "4   330986          12"
      ]
     },
     "execution_count": 11,
     "metadata": {},
     "output_type": "execute_result"
    }
   ],
   "source": [
    "#这个用户在哪些天登录了（每个用户可能不止一条）\n",
    "launch.head()"
   ]
  },
  {
   "cell_type": "markdown",
   "metadata": {},
   "source": [
    "### 创建视频数据\n",
    "    列名            类型           说明                    示例\n",
    "    user_id         Int            用户唯一标识（脱敏后）  666\n",
    "    day             String         拍摄日期                01, 02 … 30"
   ]
  },
  {
   "cell_type": "code",
   "execution_count": 12,
   "metadata": {},
   "outputs": [
    {
     "data": {
      "text/html": [
       "<div>\n",
       "<style scoped>\n",
       "    .dataframe tbody tr th:only-of-type {\n",
       "        vertical-align: middle;\n",
       "    }\n",
       "\n",
       "    .dataframe tbody tr th {\n",
       "        vertical-align: top;\n",
       "    }\n",
       "\n",
       "    .dataframe thead th {\n",
       "        text-align: right;\n",
       "    }\n",
       "</style>\n",
       "<table border=\"1\" class=\"dataframe\">\n",
       "  <thead>\n",
       "    <tr style=\"text-align: right;\">\n",
       "      <th></th>\n",
       "      <th>user_id</th>\n",
       "      <th>create_day</th>\n",
       "    </tr>\n",
       "  </thead>\n",
       "  <tbody>\n",
       "    <tr>\n",
       "      <th>0</th>\n",
       "      <td>720497</td>\n",
       "      <td>1</td>\n",
       "    </tr>\n",
       "    <tr>\n",
       "      <th>1</th>\n",
       "      <td>720497</td>\n",
       "      <td>1</td>\n",
       "    </tr>\n",
       "    <tr>\n",
       "      <th>2</th>\n",
       "      <td>720497</td>\n",
       "      <td>1</td>\n",
       "    </tr>\n",
       "    <tr>\n",
       "      <th>3</th>\n",
       "      <td>1075211</td>\n",
       "      <td>6</td>\n",
       "    </tr>\n",
       "    <tr>\n",
       "      <th>4</th>\n",
       "      <td>1075211</td>\n",
       "      <td>12</td>\n",
       "    </tr>\n",
       "  </tbody>\n",
       "</table>\n",
       "</div>"
      ],
      "text/plain": [
       "   user_id  create_day\n",
       "0   720497           1\n",
       "1   720497           1\n",
       "2   720497           1\n",
       "3  1075211           6\n",
       "4  1075211          12"
      ]
     },
     "execution_count": 12,
     "metadata": {},
     "output_type": "execute_result"
    }
   ],
   "source": [
    "#按照创建视频的时间记录，每个用户可能在同一天创建不止一个视频\n",
    "create.head()"
   ]
  },
  {
   "cell_type": "markdown",
   "metadata": {},
   "source": [
    "### 行为数据集    \n",
    "    列名            类型          说明                     示例\n",
    "    user_id         Int           用户唯一标识（脱敏后）   666\n",
    "    day             String        日期                     01, 02 …30\n",
    "    page            Int           行为发生的页面。         1\n",
    "                                  每个数字分别对应\n",
    "                                  “关注页”、“个人主页”\n",
    "                                  “发现页”、“同城页”\n",
    "                                  或“其他页”中的一个   \n",
    "    video_id        Int           video id（脱敏后）       333\n",
    "    author_id       Int           作者 id（脱敏后）        999\n",
    "    action_type     Int           用户行为类型。           1\n",
    "                                  每个数字分别对应\n",
    "                                 “播放”、“关注”\n",
    "                                 “点赞”、“转发”、\n",
    "                                 “举报”和“减少此类作品”中的一个"
   ]
  },
  {
   "cell_type": "code",
   "execution_count": 10,
   "metadata": {},
   "outputs": [
    {
     "data": {
      "text/html": [
       "<div>\n",
       "<style scoped>\n",
       "    .dataframe tbody tr th:only-of-type {\n",
       "        vertical-align: middle;\n",
       "    }\n",
       "\n",
       "    .dataframe tbody tr th {\n",
       "        vertical-align: top;\n",
       "    }\n",
       "\n",
       "    .dataframe thead th {\n",
       "        text-align: right;\n",
       "    }\n",
       "</style>\n",
       "<table border=\"1\" class=\"dataframe\">\n",
       "  <thead>\n",
       "    <tr style=\"text-align: right;\">\n",
       "      <th></th>\n",
       "      <th>user_id</th>\n",
       "      <th>act_day</th>\n",
       "      <th>page</th>\n",
       "      <th>video_id</th>\n",
       "      <th>author_id</th>\n",
       "      <th>act_type</th>\n",
       "    </tr>\n",
       "  </thead>\n",
       "  <tbody>\n",
       "    <tr>\n",
       "      <th>0</th>\n",
       "      <td>1062323</td>\n",
       "      <td>22</td>\n",
       "      <td>3</td>\n",
       "      <td>2877472</td>\n",
       "      <td>880271</td>\n",
       "      <td>0</td>\n",
       "    </tr>\n",
       "    <tr>\n",
       "      <th>1</th>\n",
       "      <td>639898</td>\n",
       "      <td>17</td>\n",
       "      <td>3</td>\n",
       "      <td>740662</td>\n",
       "      <td>210200</td>\n",
       "      <td>0</td>\n",
       "    </tr>\n",
       "    <tr>\n",
       "      <th>2</th>\n",
       "      <td>1260200</td>\n",
       "      <td>5</td>\n",
       "      <td>3</td>\n",
       "      <td>3332414</td>\n",
       "      <td>162866</td>\n",
       "      <td>0</td>\n",
       "    </tr>\n",
       "    <tr>\n",
       "      <th>3</th>\n",
       "      <td>817201</td>\n",
       "      <td>22</td>\n",
       "      <td>3</td>\n",
       "      <td>1129617</td>\n",
       "      <td>530246</td>\n",
       "      <td>0</td>\n",
       "    </tr>\n",
       "    <tr>\n",
       "      <th>4</th>\n",
       "      <td>817201</td>\n",
       "      <td>23</td>\n",
       "      <td>3</td>\n",
       "      <td>1129617</td>\n",
       "      <td>530246</td>\n",
       "      <td>0</td>\n",
       "    </tr>\n",
       "  </tbody>\n",
       "</table>\n",
       "</div>"
      ],
      "text/plain": [
       "   user_id  act_day  page  video_id  author_id  act_type\n",
       "0  1062323       22     3   2877472     880271         0\n",
       "1   639898       17     3    740662     210200         0\n",
       "2  1260200        5     3   3332414     162866         0\n",
       "3   817201       22     3   1129617     530246         0\n",
       "4   817201       23     3   1129617     530246         0"
      ]
     },
     "execution_count": 10,
     "metadata": {},
     "output_type": "execute_result"
    }
   ],
   "source": [
    "activity.head()"
   ]
  },
  {
   "cell_type": "markdown",
   "metadata": {},
   "source": [
    "    目标：预测第n+7天用户是否活跃\n",
    "    模型：RNN\n",
    "    Feature：  t1   ->  t2     ->   ...  ->   tn 天的数据\n",
    "                |        |                     |   \n",
    "    Label:     t(1+7)   t(2+7)       ...      t(n+7)天的活跃情况（是否登录）"
   ]
  },
  {
   "cell_type": "code",
   "execution_count": null,
   "metadata": {},
   "outputs": [],
   "source": []
  },
  {
   "cell_type": "code",
   "execution_count": null,
   "metadata": {},
   "outputs": [],
   "source": []
  },
  {
   "cell_type": "code",
   "execution_count": null,
   "metadata": {},
   "outputs": [],
   "source": []
  },
  {
   "cell_type": "code",
   "execution_count": null,
   "metadata": {},
   "outputs": [],
   "source": []
  },
  {
   "cell_type": "code",
   "execution_count": null,
   "metadata": {},
   "outputs": [],
   "source": []
  },
  {
   "cell_type": "code",
   "execution_count": null,
   "metadata": {},
   "outputs": [],
   "source": []
  },
  {
   "cell_type": "code",
   "execution_count": null,
   "metadata": {},
   "outputs": [],
   "source": []
  }
 ],
 "metadata": {
  "kernelspec": {
   "display_name": "Python 3",
   "language": "python",
   "name": "python3"
  },
  "language_info": {
   "codemirror_mode": {
    "name": "ipython",
    "version": 3
   },
   "file_extension": ".py",
   "mimetype": "text/x-python",
   "name": "python",
   "nbconvert_exporter": "python",
   "pygments_lexer": "ipython3",
   "version": "3.7.1"
  }
 },
 "nbformat": 4,
 "nbformat_minor": 2
}
